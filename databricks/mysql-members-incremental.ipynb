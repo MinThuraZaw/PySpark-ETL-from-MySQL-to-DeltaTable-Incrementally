{
 "cells": [
  {
   "cell_type": "code",
   "execution_count": 0,
   "metadata": {
    "application/vnd.databricks.v1+cell": {
     "cellMetadata": {
      "byteLimit": 2048000,
      "rowLimit": 10000
     },
     "inputWidgets": {},
     "nuid": "99764021-e9bd-4090-9686-6991be2a3e7b",
     "showTitle": false,
     "title": ""
    }
   },
   "outputs": [],
   "source": [
    "from datetime import datetime, timedelta\n",
    "from delta.tables import DeltaTable\n",
    "from pyspark.sql.functions import col\n",
    "from pyspark.sql.types import IntegerType"
   ]
  },
  {
   "cell_type": "code",
   "execution_count": 0,
   "metadata": {
    "application/vnd.databricks.v1+cell": {
     "cellMetadata": {},
     "inputWidgets": {},
     "nuid": "15db6aa1-256b-467b-8571-077da219a941",
     "showTitle": false,
     "title": ""
    }
   },
   "outputs": [],
   "source": [
    "%sql\n",
    "create or replace table demo_catalog.demo_schema.members(\n",
    "    id long,\n",
    "    member_id string,\n",
    "    name string,\n",
    "    email string,\n",
    "    phone string,\n",
    "    favorite_store_id int,\n",
    "    last_purchase_date date,\n",
    "    member_type_rfm string,\n",
    "    member_category string,\n",
    "    status int,\n",
    "    verified int,\n",
    "    photo_id int,\n",
    "    created_at timestamp,\n",
    "    updated_at timestamp,\n",
    "    deleted_at timestamp\n",
    ")"
   ]
  },
  {
   "cell_type": "code",
   "execution_count": 0,
   "metadata": {
    "application/vnd.databricks.v1+cell": {
     "cellMetadata": {},
     "inputWidgets": {},
     "nuid": "25f5db5e-a65c-4440-b35b-9f89c687d4e2",
     "showTitle": false,
     "title": ""
    }
   },
   "outputs": [],
   "source": [
    "# function to read data from MySQL, return DataFrame\n",
    "# don't add ; at the end of query\n",
    "\n",
    "def read_from_mysql(database_name, query):\n",
    "    try:\n",
    "        df = (\n",
    "            spark.read.format(\"jdbc\")\n",
    "            .option(\"driver\", \"org.mariadb.jdbc.Driver\")\n",
    "            .option(\n",
    "                \"url\",\n",
    "                f\"host/{database_name}?useLegacyDatetimeCode=false\",\n",
    "            )\n",
    "            .option(\"dbtable\", f\"({query}) as result\")\n",
    "            .option(\"user\", dbutils.secrets.get(\"jdbc\", \"demo_username\"))\n",
    "            .option(\"password\", dbutils.secrets.get(\"jdbc\", \"demo_password\"))\n",
    "            .load()\n",
    "        )\n",
    "    except Exception as error:\n",
    "        return error\n",
    "\n",
    "    return df\n"
   ]
  },
  {
   "cell_type": "code",
   "execution_count": 0,
   "metadata": {
    "application/vnd.databricks.v1+cell": {
     "cellMetadata": {},
     "inputWidgets": {},
     "nuid": "5d784f8b-5165-40fb-bc6c-d22faae4315e",
     "showTitle": false,
     "title": ""
    }
   },
   "outputs": [],
   "source": [
    "#"
   ]
  }
 ],
 "metadata": {
  "application/vnd.databricks.v1+notebook": {
   "dashboards": [],
   "language": "python",
   "notebookMetadata": {
    "pythonIndentUnit": 4
   },
   "notebookName": "mysql-members-incremental",
   "widgets": {}
  }
 },
 "nbformat": 4,
 "nbformat_minor": 0
}
