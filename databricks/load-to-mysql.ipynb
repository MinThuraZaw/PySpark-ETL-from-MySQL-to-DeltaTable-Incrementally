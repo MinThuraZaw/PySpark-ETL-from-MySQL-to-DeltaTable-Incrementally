{
 "cells": [
  {
   "cell_type": "markdown",
   "metadata": {
    "application/vnd.databricks.v1+cell": {
     "cellMetadata": {},
     "inputWidgets": {},
     "nuid": "ad40544c-929c-4ea9-804f-5a7a91537eaf",
     "showTitle": false,
     "title": ""
    }
   },
   "source": [
    "Join with sales tables and get sales information of each users by date."
   ]
  },
  {
   "cell_type": "code",
   "execution_count": 0,
   "metadata": {
    "application/vnd.databricks.v1+cell": {
     "cellMetadata": {},
     "inputWidgets": {},
     "nuid": "2c96facd-40a8-4dc2-b541-64d908d3ee38",
     "showTitle": false,
     "title": ""
    }
   },
   "outputs": [],
   "source": [
    "%sql\n",
    "create table demo_catalog.demo_schema.member_sales\n",
    "(\n",
    "  member_id string,\n",
    "  date date,\n",
    "  transaction_count int,\n",
    "  total decimal(10,2)\n",
    ")"
   ]
  },
  {
   "cell_type": "code",
   "execution_count": 0,
   "metadata": {
    "application/vnd.databricks.v1+cell": {
     "cellMetadata": {},
     "inputWidgets": {},
     "nuid": "3613636f-99e8-41f1-9f0a-3a87b01a65fb",
     "showTitle": false,
     "title": ""
    }
   },
   "outputs": [],
   "source": [
    "%sql\n",
    "create or replace temporary view member_sale_view as(\n",
    "select \n",
    "  sale.member_id,\n",
    "  date(sale.date) as date,\n",
    "  count(*) as transaction_count,\n",
    "  COALESCE(ROUND(SUM(sale.total), 2), 0) as total\n",
    "from demo_catalog.demo_schema.sales_transaction as sale\n",
    "  left join demo_catalog.demo_schema.members as member on sale.member_id = member.member_id\n",
    "group by \n",
    "  sale.member_id,\n",
    "  sale.date\n",
    ")"
   ]
  },
  {
   "cell_type": "code",
   "execution_count": 0,
   "metadata": {
    "application/vnd.databricks.v1+cell": {
     "cellMetadata": {},
     "inputWidgets": {},
     "nuid": "2eb4dfe9-55a3-4273-be59-89bb1915ff5e",
     "showTitle": false,
     "title": ""
    }
   },
   "outputs": [],
   "source": [
    "%sql\n",
    "merge into demo_catalog.demo_schema.member_sales as member_sales\n",
    "using member_sale_view\n",
    "on member_sales.member_id = member_sale_view.member_id \n",
    "and member_sales.date = member_sale_view.date \n",
    "when matched then\n",
    "  update set\n",
    "  transaction_count = member_sale_view.transaction_count,\n",
    "  total = member_sale_view.total\n",
    "when not matched \n",
    "  then insert(\n",
    "    member_id,\n",
    "    date,\n",
    "    transaction_count,\n",
    "    total\n",
    "  )\n",
    "  values(\n",
    "    member_sale_view.member_id,\n",
    "    member_sale_view.date,\n",
    "    member_sale_view.transaction_count,\n",
    "    member_sale_view.total\n",
    "  )"
   ]
  },
  {
   "cell_type": "code",
   "execution_count": 0,
   "metadata": {
    "application/vnd.databricks.v1+cell": {
     "cellMetadata": {},
     "inputWidgets": {},
     "nuid": "6ead2b7c-ef57-4d97-919c-2974fa2a89f6",
     "showTitle": false,
     "title": ""
    }
   },
   "outputs": [],
   "source": [
    "#truncate and write data only\n",
    "\n",
    "driver = \"org.mariadb.jdbc.Driver\"\n",
    "table = \"demo_analytic_database.member_sales\"\n",
    "user = dbutils.secrets.get(\"jdbc\", \"username\")\n",
    "password = dbutils.secrets.get(\"jdbc\", \"password\")\n",
    "url = \"jdbc:mysql://host_address/demo_analytic_database?useLegacyDatetimeCode=false\"\n",
    "\n",
    "df = spark.table(\"demo_catalog.demo_schema.member_sales\")\n",
    "\n",
    "df.write.format(\"jdbc\")\\\n",
    "    .option(\"driver\", driver)\\\n",
    "    .option(\"url\", url)\\\n",
    "    .option(\"dbtable\", table)\\\n",
    "    .option(\"truncate\", \"true\")\\\n",
    "    .option(\"user\", user)\\\n",
    "    .option(\"password\", password)\\\n",
    "    .mode(\"overwrite\")\\\n",
    "    .save()"
   ]
  },
  {
   "cell_type": "code",
   "execution_count": 0,
   "metadata": {
    "application/vnd.databricks.v1+cell": {
     "cellMetadata": {},
     "inputWidgets": {},
     "nuid": "bece5a0d-ee69-4e57-982e-5f58d7ca08cb",
     "showTitle": false,
     "title": ""
    }
   },
   "outputs": [],
   "source": [
    "#"
   ]
  }
 ],
 "metadata": {
  "application/vnd.databricks.v1+notebook": {
   "dashboards": [],
   "language": "python",
   "notebookMetadata": {
    "pythonIndentUnit": 4
   },
   "notebookName": "load-to-mysql",
   "widgets": {}
  }
 },
 "nbformat": 4,
 "nbformat_minor": 0
}
