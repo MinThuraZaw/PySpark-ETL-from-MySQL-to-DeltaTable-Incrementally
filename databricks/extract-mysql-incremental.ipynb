{
 "cells": [
  {
   "cell_type": "code",
   "execution_count": 0,
   "metadata": {
    "application/vnd.databricks.v1+cell": {
     "cellMetadata": {
      "byteLimit": 2048000,
      "rowLimit": 10000
     },
     "inputWidgets": {},
     "nuid": "99764021-e9bd-4090-9686-6991be2a3e7b",
     "showTitle": false,
     "title": ""
    }
   },
   "outputs": [],
   "source": [
    "from datetime import datetime, timedelta\n",
    "from delta.tables import DeltaTable\n",
    "from pyspark.sql.functions import col\n",
    "from pyspark.sql.types import IntegerType"
   ]
  },
  {
   "cell_type": "code",
   "execution_count": 0,
   "metadata": {
    "application/vnd.databricks.v1+cell": {
     "cellMetadata": {},
     "inputWidgets": {},
     "nuid": "15db6aa1-256b-467b-8571-077da219a941",
     "showTitle": false,
     "title": ""
    }
   },
   "outputs": [],
   "source": [
    "%sql\n",
    "create or replace table demo_catalog.demo_schema.members(\n",
    "    id long,\n",
    "    member_id string,\n",
    "    name string,\n",
    "    email string,\n",
    "    phone string,\n",
    "    favorite_store_id int,\n",
    "    last_purchase_date date,\n",
    "    member_type_rfm string,\n",
    "    member_category string,\n",
    "    status int,\n",
    "    verified int,\n",
    "    photo_id int,\n",
    "    created_at timestamp,\n",
    "    updated_at timestamp,\n",
    "    deleted_at timestamp\n",
    ")"
   ]
  },
  {
   "cell_type": "code",
   "execution_count": 0,
   "metadata": {
    "application/vnd.databricks.v1+cell": {
     "cellMetadata": {
      "byteLimit": 2048000,
      "rowLimit": 10000
     },
     "inputWidgets": {},
     "nuid": "25f5db5e-a65c-4440-b35b-9f89c687d4e2",
     "showTitle": false,
     "title": ""
    }
   },
   "outputs": [],
   "source": [
    "# function to read data from MySQL, return DataFrame\n",
    "# don't add ; at the end of query\n",
    "# set useLegacyDatetimeCode to false if you want the utc timestamp from timestamp columns\n",
    "# use databricks secrets for username and passowrd\n",
    "\n",
    "def read_from_mysql(database_name, query):\n",
    "    try:\n",
    "        df = (\n",
    "            spark.read.format(\"jdbc\")\n",
    "            .option(\"driver\", \"org.mariadb.jdbc.Driver\")\n",
    "            .option(\n",
    "                \"url\",\n",
    "                f\"host_address/{database_name}?useLegacyDatetimeCode=false\",\n",
    "            )\n",
    "            .option(\"dbtable\", f\"({query}) as result\")\n",
    "            .option(\"user\", dbutils.secrets.get(\"jdbc\", \"demo_username\"))\n",
    "            .option(\"password\", dbutils.secrets.get(\"jdbc\", \"demo_password\"))\n",
    "            .load()\n",
    "        )\n",
    "    except Exception as error:\n",
    "        return error\n",
    "\n",
    "    return df\n"
   ]
  },
  {
   "cell_type": "code",
   "execution_count": 0,
   "metadata": {
    "application/vnd.databricks.v1+cell": {
     "cellMetadata": {
      "byteLimit": 2048000,
      "rowLimit": 10000
     },
     "inputWidgets": {},
     "nuid": "370aaf62-ac7c-47e5-8081-f0cfd37f060b",
     "showTitle": false,
     "title": ""
    }
   },
   "outputs": [
    {
     "output_type": "display_data",
     "data": {
      "text/html": [
       "<style scoped>\n",
       "  .table-result-container {\n",
       "    max-height: 300px;\n",
       "    overflow: auto;\n",
       "  }\n",
       "  table, th, td {\n",
       "    border: 1px solid black;\n",
       "    border-collapse: collapse;\n",
       "  }\n",
       "  th, td {\n",
       "    padding: 5px;\n",
       "  }\n",
       "  th {\n",
       "    text-align: left;\n",
       "  }\n",
       "</style><div class='table-result-container'><table class='table-result'><thead style='background-color: white'><tr><th>id</th><th>member_id</th><th>name</th><th>email</th><th>phone</th><th>favorite_store_id</th><th>last_purchase_date</th><th>member_type_rfm</th><th>member_category</th><th>status</th><th>verified</th><th>photo_id</th><th>created_at</th><th>updated_at</th><th>deleted_at</th></tr></thead><tbody><tr><td>1</td><td>10001</td><td>member1</td><td>demo@gmail.com</td><td>00000</td><td>1</td><td>2023-11-21</td><td>null</td><td>null</td><td>1</td><td>1</td><td>10001</td><td>2023-11-21T00:00:00Z</td><td>2023-11-21T00:00:00Z</td><td>null</td></tr><tr><td>2</td><td>10002</td><td>member2</td><td>demo@gmail.com</td><td>00000</td><td>1</td><td>2023-11-21</td><td>null</td><td>null</td><td>1</td><td>1</td><td>10002</td><td>2023-11-21T05:11:30Z</td><td>2023-11-21T05:11:30Z</td><td>null</td></tr><tr><td>3</td><td>10003</td><td>member3</td><td>demo@gmail.com</td><td>00000</td><td>1</td><td>2023-11-21</td><td>null</td><td>null</td><td>1</td><td>1</td><td>10003</td><td>2023-11-21T05:35:45Z</td><td>2023-11-21T05:35:45Z</td><td>null</td></tr><tr><td>4</td><td>10004</td><td>member4</td><td>demo@gmail.com</td><td>00000</td><td>1</td><td>2023-11-21</td><td>null</td><td>New</td><td>1</td><td>1</td><td>10004</td><td>2023-11-21T05:38:33Z</td><td>2023-11-21T05:38:33Z</td><td>null</td></tr><tr><td>5</td><td>10005</td><td>member5</td><td>demo@gmail.com</td><td>00000</td><td>1</td><td>2023-11-21</td><td>null</td><td>New</td><td>1</td><td>1</td><td>10005</td><td>2023-11-21T05:38:56Z</td><td>2023-11-21T05:38:56Z</td><td>null</td></tr><tr><td>6</td><td>10006</td><td>member6</td><td>demo@gmail.com</td><td>00000</td><td>1</td><td>2023-11-21</td><td>null</td><td>New</td><td>1</td><td>1</td><td>10006</td><td>2023-11-21T05:39:07Z</td><td>2023-11-21T05:39:07Z</td><td>null</td></tr><tr><td>7</td><td>10007</td><td>member7</td><td>demo@gmail.com</td><td>00000</td><td>1</td><td>2023-11-21</td><td>null</td><td>New</td><td>1</td><td>1</td><td>10007</td><td>2023-11-21T05:39:18Z</td><td>2023-11-21T05:39:18Z</td><td>null</td></tr><tr><td>8</td><td>10008</td><td>member8</td><td>demo@gmail.com</td><td>00000</td><td>1</td><td>2023-11-21</td><td>null</td><td>New</td><td>1</td><td>1</td><td>10008</td><td>2023-11-21T05:39:35Z</td><td>2023-11-21T05:39:35Z</td><td>null</td></tr><tr><td>9</td><td>10009</td><td>member9</td><td>demo@gmail.com</td><td>00000</td><td>1</td><td>2023-11-21</td><td>null</td><td>New</td><td>1</td><td>1</td><td>10009</td><td>2023-11-21T05:39:45Z</td><td>2023-11-21T05:39:45Z</td><td>null</td></tr><tr><td>10</td><td>10010</td><td>member10</td><td>demo@gmail.com</td><td>00000</td><td>1</td><td>2023-11-21</td><td>null</td><td>New</td><td>1</td><td>1</td><td>10010</td><td>2023-11-21T05:40:05Z</td><td>2023-11-21T05:40:05Z</td><td>null</td></tr></tbody></table></div>"
      ]
     },
     "metadata": {
      "application/vnd.databricks.v1+output": {
       "addedWidgets": {},
       "aggData": [],
       "aggError": "",
       "aggOverflow": false,
       "aggSchema": [],
       "aggSeriesLimitReached": false,
       "aggType": "",
       "arguments": {},
       "columnCustomDisplayInfos": {},
       "data": [
        [
         1,
         "10001",
         "member1",
         "demo@gmail.com",
         "00000",
         1,
         "2023-11-21",
         null,
         null,
         1,
         1,
         10001,
         "2023-11-21T00:00:00Z",
         "2023-11-21T00:00:00Z",
         null
        ],
        [
         2,
         "10002",
         "member2",
         "demo@gmail.com",
         "00000",
         1,
         "2023-11-21",
         null,
         null,
         1,
         1,
         10002,
         "2023-11-21T05:11:30Z",
         "2023-11-21T05:11:30Z",
         null
        ],
        [
         3,
         "10003",
         "member3",
         "demo@gmail.com",
         "00000",
         1,
         "2023-11-21",
         null,
         null,
         1,
         1,
         10003,
         "2023-11-21T05:35:45Z",
         "2023-11-21T05:35:45Z",
         null
        ],
        [
         4,
         "10004",
         "member4",
         "demo@gmail.com",
         "00000",
         1,
         "2023-11-21",
         null,
         "New",
         1,
         1,
         10004,
         "2023-11-21T05:38:33Z",
         "2023-11-21T05:38:33Z",
         null
        ],
        [
         5,
         "10005",
         "member5",
         "demo@gmail.com",
         "00000",
         1,
         "2023-11-21",
         null,
         "New",
         1,
         1,
         10005,
         "2023-11-21T05:38:56Z",
         "2023-11-21T05:38:56Z",
         null
        ],
        [
         6,
         "10006",
         "member6",
         "demo@gmail.com",
         "00000",
         1,
         "2023-11-21",
         null,
         "New",
         1,
         1,
         10006,
         "2023-11-21T05:39:07Z",
         "2023-11-21T05:39:07Z",
         null
        ],
        [
         7,
         "10007",
         "member7",
         "demo@gmail.com",
         "00000",
         1,
         "2023-11-21",
         null,
         "New",
         1,
         1,
         10007,
         "2023-11-21T05:39:18Z",
         "2023-11-21T05:39:18Z",
         null
        ],
        [
         8,
         "10008",
         "member8",
         "demo@gmail.com",
         "00000",
         1,
         "2023-11-21",
         null,
         "New",
         1,
         1,
         10008,
         "2023-11-21T05:39:35Z",
         "2023-11-21T05:39:35Z",
         null
        ],
        [
         9,
         "10009",
         "member9",
         "demo@gmail.com",
         "00000",
         1,
         "2023-11-21",
         null,
         "New",
         1,
         1,
         10009,
         "2023-11-21T05:39:45Z",
         "2023-11-21T05:39:45Z",
         null
        ],
        [
         10,
         "10010",
         "member10",
         "demo@gmail.com",
         "00000",
         1,
         "2023-11-21",
         null,
         "New",
         1,
         1,
         10010,
         "2023-11-21T05:40:05Z",
         "2023-11-21T05:40:05Z",
         null
        ]
       ],
       "datasetInfos": [],
       "dbfsResultPath": null,
       "isJsonSchema": true,
       "metadata": {},
       "overflow": false,
       "plotOptions": {
        "customPlotOptions": {},
        "displayType": "table",
        "pivotAggregation": null,
        "pivotColumns": null,
        "xColumns": null,
        "yColumns": null
       },
       "removedWidgets": [],
       "schema": [
        {
         "metadata": "{\"scale\":0}",
         "name": "id",
         "type": "\"long\""
        },
        {
         "metadata": "{\"__CHAR_VARCHAR_TYPE_STRING\":\"varchar(65535)\",\"scale\":0}",
         "name": "member_id",
         "type": "\"string\""
        },
        {
         "metadata": "{\"__CHAR_VARCHAR_TYPE_STRING\":\"varchar(65535)\",\"scale\":0}",
         "name": "name",
         "type": "\"string\""
        },
        {
         "metadata": "{\"__CHAR_VARCHAR_TYPE_STRING\":\"varchar(65535)\",\"scale\":0}",
         "name": "email",
         "type": "\"string\""
        },
        {
         "metadata": "{\"__CHAR_VARCHAR_TYPE_STRING\":\"varchar(65535)\",\"scale\":0}",
         "name": "phone",
         "type": "\"string\""
        },
        {
         "metadata": "{\"scale\":0}",
         "name": "favorite_store_id",
         "type": "\"integer\""
        },
        {
         "metadata": "{\"scale\":0}",
         "name": "last_purchase_date",
         "type": "\"date\""
        },
        {
         "metadata": "{\"__CHAR_VARCHAR_TYPE_STRING\":\"varchar(65535)\",\"scale\":0}",
         "name": "member_type_rfm",
         "type": "\"string\""
        },
        {
         "metadata": "{\"__CHAR_VARCHAR_TYPE_STRING\":\"varchar(65535)\",\"scale\":0}",
         "name": "member_category",
         "type": "\"string\""
        },
        {
         "metadata": "{\"scale\":0}",
         "name": "status",
         "type": "\"integer\""
        },
        {
         "metadata": "{\"scale\":0}",
         "name": "verified",
         "type": "\"integer\""
        },
        {
         "metadata": "{\"scale\":0}",
         "name": "photo_id",
         "type": "\"integer\""
        },
        {
         "metadata": "{\"scale\":0}",
         "name": "created_at",
         "type": "\"timestamp\""
        },
        {
         "metadata": "{\"scale\":0}",
         "name": "updated_at",
         "type": "\"timestamp\""
        },
        {
         "metadata": "{\"scale\":0}",
         "name": "deleted_at",
         "type": "\"timestamp\""
        }
       ],
       "type": "table"
      }
     },
     "output_type": "display_data"
    }
   ],
   "source": [
    "# check schema\n",
    "df = read_from_mysql(\"demo_database\", \"select * from demo_database.members limit 10\")\n",
    "df.display()"
   ]
  },
  {
   "cell_type": "markdown",
   "metadata": {
    "application/vnd.databricks.v1+cell": {
     "cellMetadata": {},
     "inputWidgets": {},
     "nuid": "cd03e07e-c5c6-4583-b1cd-218c16943ea6",
     "showTitle": false,
     "title": ""
    }
   },
   "source": [
    "Example 1 <br> \n",
    "When the rows in table getting update, we can add updated_at column at the source table and read the changes rows with that column."
   ]
  },
  {
   "cell_type": "code",
   "execution_count": 0,
   "metadata": {
    "application/vnd.databricks.v1+cell": {
     "cellMetadata": {
      "byteLimit": 2048000,
      "rowLimit": 10000
     },
     "inputWidgets": {},
     "nuid": "f4bd3406-7b56-479b-9148-ebede2a3e9a8",
     "showTitle": false,
     "title": ""
    }
   },
   "outputs": [
    {
     "output_type": "stream",
     "name": "stdout",
     "output_type": "stream",
     "text": [
      "current timestamp: 2023-11-23 02:25:18.875175\nmax timestamp: 2023-11-23 02:18:24\n"
     ]
    }
   ],
   "source": [
    "current_timestamp = datetime.now()\n",
    "\n",
    "# get maximum updated timestamp from the existing table\n",
    "df_current = spark.sql(\"select max(updated_at) as max_timestamp from demo_catalog.demo_schema.members\")\n",
    "\n",
    "df_current = df_current.select(\"max_timestamp\").collect()[0]\n",
    "max_timestamp = df_current[\"max_timestamp\"]\n",
    "\n",
    "print(\"current timestamp:\", current_timestamp)\n",
    "print(\"max timestamp:\", max_timestamp)"
   ]
  },
  {
   "cell_type": "code",
   "execution_count": 0,
   "metadata": {
    "application/vnd.databricks.v1+cell": {
     "cellMetadata": {
      "byteLimit": 2048000,
      "rowLimit": 10000
     },
     "inputWidgets": {},
     "nuid": "6f5c81e8-f71f-4210-bb25-807096716a55",
     "showTitle": false,
     "title": ""
    }
   },
   "outputs": [
    {
     "output_type": "display_data",
     "data": {
      "text/html": [
       "<style scoped>\n",
       "  .table-result-container {\n",
       "    max-height: 300px;\n",
       "    overflow: auto;\n",
       "  }\n",
       "  table, th, td {\n",
       "    border: 1px solid black;\n",
       "    border-collapse: collapse;\n",
       "  }\n",
       "  th, td {\n",
       "    padding: 5px;\n",
       "  }\n",
       "  th {\n",
       "    text-align: left;\n",
       "  }\n",
       "</style><div class='table-result-container'><table class='table-result'><thead style='background-color: white'><tr><th>id</th><th>member_id</th><th>name</th><th>email</th><th>phone</th><th>favorite_store_id</th><th>last_purchase_date</th><th>member_type_rfm</th><th>member_category</th><th>status</th><th>verified</th><th>photo_id</th><th>created_at</th><th>updated_at</th><th>deleted_at</th></tr></thead><tbody><tr><td>345</td><td>10345</td><td>membe345</td><td>demo@gmail.com</td><td>00000</td><td>1</td><td>2023-11-23</td><td>null</td><td>New</td><td>1</td><td>1</td><td>10345</td><td>2023-11-23T02:18:24Z</td><td>2023-11-23T02:18:24Z</td><td>null</td></tr><tr><td>346</td><td>10346</td><td>membe346</td><td>demo@gmail.com</td><td>00000</td><td>1</td><td>2023-11-23</td><td>null</td><td>New</td><td>1</td><td>1</td><td>10346</td><td>2023-11-23T02:19:20Z</td><td>2023-11-23T02:19:20Z</td><td>null</td></tr><tr><td>347</td><td>10347</td><td>membe347</td><td>demouser@gmail.com</td><td>00000</td><td>1</td><td>2023-11-23</td><td>null</td><td>New</td><td>1</td><td>1</td><td>10347</td><td>2023-11-23T02:19:34Z</td><td>2023-11-23T02:20:33Z</td><td>null</td></tr><tr><td>348</td><td>10348</td><td>membe348</td><td>demo@gmail.com</td><td>00000</td><td>1</td><td>2023-11-23</td><td>null</td><td>New</td><td>1</td><td>1</td><td>10348</td><td>2023-11-23T02:19:52Z</td><td>2023-11-23T02:19:52Z</td><td>null</td></tr><tr><td>349</td><td>10349</td><td>membe349</td><td>demo@gmail.com</td><td>00000</td><td>1</td><td>2023-11-23</td><td>null</td><td>New</td><td>1</td><td>1</td><td>10349</td><td>2023-11-23T02:23:27Z</td><td>2023-11-23T02:23:27Z</td><td>null</td></tr><tr><td>350</td><td>10350</td><td>membe350</td><td>demo@gmail.com</td><td>00000</td><td>1</td><td>2023-11-23</td><td>null</td><td>New</td><td>1</td><td>1</td><td>10350</td><td>2023-11-23T02:23:46Z</td><td>2023-11-23T02:23:46Z</td><td>null</td></tr></tbody></table></div>"
      ]
     },
     "metadata": {
      "application/vnd.databricks.v1+output": {
       "addedWidgets": {},
       "aggData": [],
       "aggError": "",
       "aggOverflow": false,
       "aggSchema": [],
       "aggSeriesLimitReached": false,
       "aggType": "",
       "arguments": {},
       "columnCustomDisplayInfos": {},
       "data": [
        [
         345,
         "10345",
         "membe345",
         "demo@gmail.com",
         "00000",
         1,
         "2023-11-23",
         null,
         "New",
         1,
         1,
         10345,
         "2023-11-23T02:18:24Z",
         "2023-11-23T02:18:24Z",
         null
        ],
        [
         346,
         "10346",
         "membe346",
         "demo@gmail.com",
         "00000",
         1,
         "2023-11-23",
         null,
         "New",
         1,
         1,
         10346,
         "2023-11-23T02:19:20Z",
         "2023-11-23T02:19:20Z",
         null
        ],
        [
         347,
         "10347",
         "membe347",
         "demouser@gmail.com",
         "00000",
         1,
         "2023-11-23",
         null,
         "New",
         1,
         1,
         10347,
         "2023-11-23T02:19:34Z",
         "2023-11-23T02:20:33Z",
         null
        ],
        [
         348,
         "10348",
         "membe348",
         "demo@gmail.com",
         "00000",
         1,
         "2023-11-23",
         null,
         "New",
         1,
         1,
         10348,
         "2023-11-23T02:19:52Z",
         "2023-11-23T02:19:52Z",
         null
        ],
        [
         349,
         "10349",
         "membe349",
         "demo@gmail.com",
         "00000",
         1,
         "2023-11-23",
         null,
         "New",
         1,
         1,
         10349,
         "2023-11-23T02:23:27Z",
         "2023-11-23T02:23:27Z",
         null
        ],
        [
         350,
         "10350",
         "membe350",
         "demo@gmail.com",
         "00000",
         1,
         "2023-11-23",
         null,
         "New",
         1,
         1,
         10350,
         "2023-11-23T02:23:46Z",
         "2023-11-23T02:23:46Z",
         null
        ]
       ],
       "datasetInfos": [],
       "dbfsResultPath": null,
       "isJsonSchema": true,
       "metadata": {},
       "overflow": false,
       "plotOptions": {
        "customPlotOptions": {},
        "displayType": "table",
        "pivotAggregation": null,
        "pivotColumns": null,
        "xColumns": null,
        "yColumns": null
       },
       "removedWidgets": [],
       "schema": [
        {
         "metadata": "{\"scale\":0}",
         "name": "id",
         "type": "\"long\""
        },
        {
         "metadata": "{\"__CHAR_VARCHAR_TYPE_STRING\":\"varchar(65535)\",\"scale\":0}",
         "name": "member_id",
         "type": "\"string\""
        },
        {
         "metadata": "{\"__CHAR_VARCHAR_TYPE_STRING\":\"varchar(65535)\",\"scale\":0}",
         "name": "name",
         "type": "\"string\""
        },
        {
         "metadata": "{\"__CHAR_VARCHAR_TYPE_STRING\":\"varchar(65535)\",\"scale\":0}",
         "name": "email",
         "type": "\"string\""
        },
        {
         "metadata": "{\"__CHAR_VARCHAR_TYPE_STRING\":\"varchar(65535)\",\"scale\":0}",
         "name": "phone",
         "type": "\"string\""
        },
        {
         "metadata": "{\"scale\":0}",
         "name": "favorite_store_id",
         "type": "\"integer\""
        },
        {
         "metadata": "{\"scale\":0}",
         "name": "last_purchase_date",
         "type": "\"date\""
        },
        {
         "metadata": "{\"__CHAR_VARCHAR_TYPE_STRING\":\"varchar(65535)\",\"scale\":0}",
         "name": "member_type_rfm",
         "type": "\"string\""
        },
        {
         "metadata": "{\"__CHAR_VARCHAR_TYPE_STRING\":\"varchar(65535)\",\"scale\":0}",
         "name": "member_category",
         "type": "\"string\""
        },
        {
         "metadata": "{\"scale\":0}",
         "name": "status",
         "type": "\"integer\""
        },
        {
         "metadata": "{\"scale\":0}",
         "name": "verified",
         "type": "\"integer\""
        },
        {
         "metadata": "{\"scale\":0}",
         "name": "photo_id",
         "type": "\"integer\""
        },
        {
         "metadata": "{\"scale\":0}",
         "name": "created_at",
         "type": "\"timestamp\""
        },
        {
         "metadata": "{\"scale\":0}",
         "name": "updated_at",
         "type": "\"timestamp\""
        },
        {
         "metadata": "{\"scale\":0}",
         "name": "deleted_at",
         "type": "\"timestamp\""
        }
       ],
       "type": "table"
      }
     },
     "output_type": "display_data"
    }
   ],
   "source": [
    "# read only updated rows from posdb \n",
    "query = f\"select * from demo_database.members where updated_at <= '{current_timestamp}' and updated_at >= '{max_timestamp}'\"\n",
    "\n",
    "new_data = read_from_mysql(\"demo_database\", query)\n",
    "new_data.display()"
   ]
  },
  {
   "cell_type": "code",
   "execution_count": 0,
   "metadata": {
    "application/vnd.databricks.v1+cell": {
     "cellMetadata": {},
     "inputWidgets": {},
     "nuid": "62abcfe1-3327-4454-bd01-4c3d1fff93ae",
     "showTitle": false,
     "title": ""
    }
   },
   "outputs": [],
   "source": [
    "# spark and delta configs for automerge \n",
    "# so we don't need to worry for new schema or deleted schema \n",
    "\n",
    "if spark.conf.get(\"spark.databricks.delta.schema.autoMerge.enabled\") == \"false\":\n",
    "    spark.conf.set(\"spark.databricks.delta.schema.autoMerge.enabled\", \"true\")\n",
    "    print(\"set to true\")\n",
    "elif spark.conf.get(\"spark.databricks.delta.schema.autoMerge.enabled\") == \"true\":\n",
    "    print(\"true\")\n",
    "else:\n",
    "    print(\"unknown value\")"
   ]
  },
  {
   "cell_type": "code",
   "execution_count": 0,
   "metadata": {
    "application/vnd.databricks.v1+cell": {
     "cellMetadata": {},
     "inputWidgets": {},
     "nuid": "9bc43eac-c772-40d3-93c0-12c29f04b696",
     "showTitle": false,
     "title": ""
    }
   },
   "outputs": [],
   "source": [
    "deltaTable = DeltaTable.forName(spark, \"demo_catalog.demo_schema.members\")\n",
    "\n",
    "(\n",
    "    deltaTable.alias(\"current\")\n",
    "    .merge(new_data.alias(\"new\"), \"new.id = current.id\")\n",
    "    .whenMatchedUpdateAll()\n",
    "    .whenNotMatchedInsertAll()\n",
    "    .execute()\n",
    ")"
   ]
  },
  {
   "cell_type": "code",
   "execution_count": 0,
   "metadata": {
    "application/vnd.databricks.v1+cell": {
     "cellMetadata": {},
     "inputWidgets": {},
     "nuid": "bf5830dd-c673-4e62-90d6-4515fd15e418",
     "showTitle": false,
     "title": ""
    }
   },
   "outputs": [],
   "source": [
    "# we need to use merge instand of append\n",
    "# because when reading data with where condition, we use => where updated_at <= '{current_timestamp}' \n",
    "# so the row with the current max timestamp will always include in the query\n",
    "# because when we don't use less then equal and when there are two exactly timestamps in the source table, then we only get one.\n",
    "# just need to make sure we got all data and not missing any row.\n",
    "# even in Kimball book mentioned that this approach is wrong, I think it is okay if we know our data and know how to handle it."
   ]
  },
  {
   "cell_type": "code",
   "execution_count": 0,
   "metadata": {
    "application/vnd.databricks.v1+cell": {
     "cellMetadata": {},
     "inputWidgets": {},
     "nuid": "b945b1b3-8fe8-470c-8dfa-d041e70dc8ab",
     "showTitle": false,
     "title": ""
    }
   },
   "outputs": [],
   "source": [
    "# df = spark.table(\"demo_catalog.demo_schema.members\")\n",
    "# df.limit(10).display()"
   ]
  },
  {
   "cell_type": "code",
   "execution_count": 0,
   "metadata": {
    "application/vnd.databricks.v1+cell": {
     "cellMetadata": {},
     "inputWidgets": {},
     "nuid": "cd9af61a-9885-4178-b8ce-33cfe0de1785",
     "showTitle": false,
     "title": ""
    }
   },
   "outputs": [],
   "source": [
    "#"
   ]
  },
  {
   "cell_type": "markdown",
   "metadata": {
    "application/vnd.databricks.v1+cell": {
     "cellMetadata": {},
     "inputWidgets": {},
     "nuid": "fcceded0-c22e-46cd-b48c-7528b60570b0",
     "showTitle": false,
     "title": ""
    }
   },
   "source": [
    "Example 2 <br>\n",
    "When the source table is insert only, then we can use watermark table or any way to get the current max id. That way, we can read the changes rows only."
   ]
  },
  {
   "cell_type": "code",
   "execution_count": 0,
   "metadata": {
    "application/vnd.databricks.v1+cell": {
     "cellMetadata": {},
     "inputWidgets": {},
     "nuid": "d0679418-af00-40ce-a614-869d64349c98",
     "showTitle": false,
     "title": ""
    }
   },
   "outputs": [],
   "source": []
  },
  {
   "cell_type": "code",
   "execution_count": 0,
   "metadata": {
    "application/vnd.databricks.v1+cell": {
     "cellMetadata": {},
     "inputWidgets": {},
     "nuid": "e6e08bf8-4057-4697-b9a1-e57a95993df8",
     "showTitle": false,
     "title": ""
    }
   },
   "outputs": [],
   "source": [
    "%sql\n",
    "create or replace table demo_catalog.demo_schema.watermark_table(\n",
    "  table_name string,\n",
    "  max_id long\n",
    ");\n",
    "\n",
    "-- start with 0\n",
    "insert into demo_catalog.demo_schema.watermark_table (table_name, max_id) values (\"members\", 0);"
   ]
  },
  {
   "cell_type": "code",
   "execution_count": 0,
   "metadata": {
    "application/vnd.databricks.v1+cell": {
     "cellMetadata": {},
     "inputWidgets": {},
     "nuid": "c387c73b-f4e2-4edc-9dd5-a3487dde3208",
     "showTitle": false,
     "title": ""
    }
   },
   "outputs": [],
   "source": [
    "#get maximum id from the existing table\n",
    "df_current = spark.sql(\"select max_id from demo_catalog.demo_schema.watermark_table where table_name = 'members' \")\n",
    "df_current = df_current.select(\"max_id\").collect()[0]\n",
    "current_max_id = df_current[\"max_id\"]\n",
    "\n",
    "#get maximum id from the source table\n",
    "df_source = read_from_mysql(\"demo_database\", \"select max(id) as max_id from demo_database.members \")\n",
    "df_source = df_source.select(\"max_id\").collect()[0]\n",
    "source_max_id = df_source[\"max_id\"]\n",
    "\n",
    "print(\"current max id:\", current_max_id)\n",
    "print(\"source max id:\", source_max_id)"
   ]
  },
  {
   "cell_type": "code",
   "execution_count": 0,
   "metadata": {
    "application/vnd.databricks.v1+cell": {
     "cellMetadata": {},
     "inputWidgets": {},
     "nuid": "b676b73a-1f7c-4b89-881d-e46f0c62773b",
     "showTitle": false,
     "title": ""
    }
   },
   "outputs": [],
   "source": [
    "# read only updated rows from posdb \n",
    "query = f\"select * from demo_database.members where updated_at <= '{current_timestamp}' and updated_at >= '{max_timestamp}'\"\n",
    "\n",
    "new_data = read_from_mysql(\"demo_database\", query)\n",
    "new_data.display()"
   ]
  },
  {
   "cell_type": "code",
   "execution_count": 0,
   "metadata": {
    "application/vnd.databricks.v1+cell": {
     "cellMetadata": {},
     "inputWidgets": {},
     "nuid": "05eedc31-6690-4ea3-86f3-8fe4b8938aae",
     "showTitle": false,
     "title": ""
    }
   },
   "outputs": [],
   "source": [
    "deltaTable = DeltaTable.forName(spark, \"demo_catalog.demo_schema.members\")\n",
    "\n",
    "(\n",
    "    deltaTable.alias(\"current\")\n",
    "    .merge(new_data.alias(\"new\"), \"new.id = current.id\")\n",
    "    .whenMatchedUpdateAll()\n",
    "    .whenNotMatchedInsertAll()\n",
    "    .execute()\n",
    ")"
   ]
  },
  {
   "cell_type": "code",
   "execution_count": 0,
   "metadata": {
    "application/vnd.databricks.v1+cell": {
     "cellMetadata": {},
     "inputWidgets": {},
     "nuid": "fa0a6cfa-357f-4477-87e1-a277a236b9e4",
     "showTitle": false,
     "title": ""
    }
   },
   "outputs": [],
   "source": [
    "%sql\n",
    "update demo_catalog.demo_schema.watermark_table set max_id = 100 where table_name = 'members'"
   ]
  },
  {
   "cell_type": "code",
   "execution_count": 0,
   "metadata": {
    "application/vnd.databricks.v1+cell": {
     "cellMetadata": {},
     "inputWidgets": {},
     "nuid": "5d784f8b-5165-40fb-bc6c-d22faae4315e",
     "showTitle": false,
     "title": ""
    }
   },
   "outputs": [],
   "source": [
    "#"
   ]
  }
 ],
 "metadata": {
  "application/vnd.databricks.v1+notebook": {
   "dashboards": [],
   "language": "python",
   "notebookMetadata": {
    "mostRecentlyExecutedCommandWithImplicitDF": {
     "commandId": 2567401122121072,
     "dataframes": [
      "_sqldf"
     ]
    },
    "pythonIndentUnit": 4
   },
   "notebookName": "extract-mysql-incremental",
   "widgets": {}
  }
 },
 "nbformat": 4,
 "nbformat_minor": 0
}
